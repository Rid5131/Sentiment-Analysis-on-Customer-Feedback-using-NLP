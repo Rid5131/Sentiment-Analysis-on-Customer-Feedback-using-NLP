{
  "nbformat": 4,
  "nbformat_minor": 0,
  "metadata": {
    "colab": {
      "provenance": [],
      "gpuType": "T4"
    },
    "kernelspec": {
      "name": "python3",
      "display_name": "Python 3"
    },
    "language_info": {
      "name": "python"
    },
    "accelerator": "GPU"
  },
  "cells": [
    {
      "cell_type": "code",
      "source": [
        "!nvidia-smi"
      ],
      "metadata": {
        "colab": {
          "base_uri": "https://localhost:8080/"
        },
        "id": "9Qe9KMy2g6-N",
        "outputId": "6d8ccb75-33c4-4222-8c34-8e11fd9d6a01"
      },
      "execution_count": null,
      "outputs": [
        {
          "output_type": "stream",
          "name": "stdout",
          "text": [
            "Thu Oct 17 07:45:00 2024       \n",
            "+---------------------------------------------------------------------------------------+\n",
            "| NVIDIA-SMI 535.104.05             Driver Version: 535.104.05   CUDA Version: 12.2     |\n",
            "|-----------------------------------------+----------------------+----------------------+\n",
            "| GPU  Name                 Persistence-M | Bus-Id        Disp.A | Volatile Uncorr. ECC |\n",
            "| Fan  Temp   Perf          Pwr:Usage/Cap |         Memory-Usage | GPU-Util  Compute M. |\n",
            "|                                         |                      |               MIG M. |\n",
            "|=========================================+======================+======================|\n",
            "|   0  Tesla T4                       Off | 00000000:00:04.0 Off |                    0 |\n",
            "| N/A   41C    P8              11W /  70W |      0MiB / 15360MiB |      0%      Default |\n",
            "|                                         |                      |                  N/A |\n",
            "+-----------------------------------------+----------------------+----------------------+\n",
            "                                                                                         \n",
            "+---------------------------------------------------------------------------------------+\n",
            "| Processes:                                                                            |\n",
            "|  GPU   GI   CI        PID   Type   Process name                            GPU Memory |\n",
            "|        ID   ID                                                             Usage      |\n",
            "|=======================================================================================|\n",
            "|  No running processes found                                                           |\n",
            "+---------------------------------------------------------------------------------------+\n"
          ]
        }
      ]
    },
    {
      "cell_type": "code",
      "execution_count": null,
      "metadata": {
        "colab": {
          "base_uri": "https://localhost:8080/"
        },
        "id": "XijKIhdmgIlF",
        "outputId": "4620909d-b0f2-4e27-e2d3-155f3d3ac629"
      },
      "outputs": [
        {
          "output_type": "stream",
          "name": "stdout",
          "text": [
            "Mounted at /content/gdrive\n"
          ]
        }
      ],
      "source": [
        "# Load the Drive helper and mount\n",
        "from google.colab import drive\n",
        "drive.mount('/content/gdrive')"
      ]
    },
    {
      "cell_type": "code",
      "source": [
        "import kagglehub\n",
        "\n",
        "# Download latest version\n",
        "path = kagglehub.dataset_download(\"abhi8923shriv/sentiment-analysis-dataset\")\n",
        "\n",
        "print(\"Path to dataset files:\", path)"
      ],
      "metadata": {
        "colab": {
          "base_uri": "https://localhost:8080/"
        },
        "id": "rTYE9VtlhZDV",
        "outputId": "f89912b8-de26-4836-aed1-a02b4ecf01b7"
      },
      "execution_count": null,
      "outputs": [
        {
          "output_type": "stream",
          "name": "stdout",
          "text": [
            "Downloading from https://www.kaggle.com/api/v1/datasets/download/abhi8923shriv/sentiment-analysis-dataset?dataset_version_number=9...\n"
          ]
        },
        {
          "output_type": "stream",
          "name": "stderr",
          "text": [
            "100%|██████████| 54.4M/54.4M [00:03<00:00, 15.7MB/s]"
          ]
        },
        {
          "output_type": "stream",
          "name": "stdout",
          "text": [
            "Extracting files...\n"
          ]
        },
        {
          "output_type": "stream",
          "name": "stderr",
          "text": [
            "\n"
          ]
        },
        {
          "output_type": "stream",
          "name": "stdout",
          "text": [
            "Path to dataset files: /root/.cache/kagglehub/datasets/abhi8923shriv/sentiment-analysis-dataset/versions/9\n"
          ]
        }
      ]
    },
    {
      "cell_type": "code",
      "source": [
        "import shutil\n",
        "\n",
        "# Define source and destination paths\n",
        "source_path = '/root/.cache/kagglehub/datasets/abhi8923shriv/sentiment-analysis-dataset/versions/9'\n",
        "destination_path = '/content/gdrive/My Drive/sentiment-analysis-dataset'\n",
        "\n",
        "# Copy the dataset to Google Drive\n",
        "shutil.copytree(source_path, destination_path)\n",
        "\n",
        "print(\"Dataset successfully transferred to Google Drive.\")"
      ],
      "metadata": {
        "id": "E7j_qibuhvWo",
        "colab": {
          "base_uri": "https://localhost:8080/"
        },
        "outputId": "b4753bd8-9947-4c53-fe55-b104c2d9a25c"
      },
      "execution_count": null,
      "outputs": [
        {
          "output_type": "stream",
          "name": "stdout",
          "text": [
            "Dataset successfully transferred to Google Drive.\n"
          ]
        }
      ]
    },
    {
      "cell_type": "code",
      "source": [
        "import pandas as pd\n",
        "import numpy as np\n",
        "import re\n",
        "import nltk\n",
        "from nltk.corpus import stopwords\n",
        "from tensorflow.keras.preprocessing.text import Tokenizer"
      ],
      "metadata": {
        "id": "bfkW-q09jUMz"
      },
      "execution_count": null,
      "outputs": []
    },
    {
      "cell_type": "code",
      "source": [
        "from tensorflow.keras.preprocessing.sequence import pad_sequences\n",
        "from tensorflow.keras.models import Sequential\n",
        "from keras.layers import Dense, Embedding, LSTM, SpatialDropout1D, Dropout, Bidirectional, Concatenate, Input\n",
        "from sklearn.model_selection import train_test_split\n",
        "from keras.callbacks import EarlyStopping, ModelCheckpoint, ReduceLROnPlateau\n",
        "from sklearn.metrics import classification_report\n",
        "from tensorflow.keras.models import Model\n",
        "from sklearn.preprocessing import OneHotEncoder"
      ],
      "metadata": {
        "id": "bnLxU325j4Jp"
      },
      "execution_count": null,
      "outputs": []
    },
    {
      "cell_type": "code",
      "source": [
        "from sklearn.metrics import classification_report\n",
        "from sklearn.metrics import accuracy_score\n",
        "from sklearn.metrics import confusion_matrix\n",
        "import seaborn as sns\n",
        "import matplotlib.pyplot as plt\n",
        "from sklearn.metrics import classification_report"
      ],
      "metadata": {
        "id": "lU_R7-AgkBi6"
      },
      "execution_count": null,
      "outputs": []
    },
    {
      "cell_type": "code",
      "source": [
        "#Read Data\n",
        "\n",
        "train = pd.read_csv('/content/gdrive/MyDrive/sentiment-analysis-dataset/train.csv', encoding='ISO-8859-1')\n",
        "\n",
        "test = pd.read_csv('/content/gdrive/MyDrive/sentiment-analysis-dataset/test.csv', encoding='ISO-8859-1')\n",
        "\n",
        "df = pd.DataFrame(train)\n",
        "df_test = pd.DataFrame(test)"
      ],
      "metadata": {
        "id": "S-FETwgOkH_-"
      },
      "execution_count": null,
      "outputs": []
    },
    {
      "cell_type": "code",
      "source": [
        "print(df.head())"
      ],
      "metadata": {
        "colab": {
          "base_uri": "https://localhost:8080/"
        },
        "id": "lAG0VuHikcFy",
        "outputId": "290af1cf-62ee-4ba2-a420-8cc0d69ea2c0"
      },
      "execution_count": null,
      "outputs": [
        {
          "output_type": "stream",
          "name": "stdout",
          "text": [
            "       textID                                               text  \\\n",
            "0  cb774db0d1                I`d have responded, if I were going   \n",
            "1  549e992a42      Sooo SAD I will miss you here in San Diego!!!   \n",
            "2  088c60f138                          my boss is bullying me...   \n",
            "3  9642c003ef                     what interview! leave me alone   \n",
            "4  358bd9e861   Sons of ****, why couldn`t they put them on t...   \n",
            "\n",
            "                         selected_text sentiment Time of Tweet Age of User  \\\n",
            "0  I`d have responded, if I were going   neutral       morning        0-20   \n",
            "1                             Sooo SAD  negative          noon       21-30   \n",
            "2                          bullying me  negative         night       31-45   \n",
            "3                       leave me alone  negative       morning       46-60   \n",
            "4                        Sons of ****,  negative          noon       60-70   \n",
            "\n",
            "       Country  Population -2020  Land Area (Km²)  Density (P/Km²)  \n",
            "0  Afghanistan          38928346         652860.0               60  \n",
            "1      Albania           2877797          27400.0              105  \n",
            "2      Algeria          43851044        2381740.0               18  \n",
            "3      Andorra             77265            470.0              164  \n",
            "4       Angola          32866272        1246700.0               26  \n"
          ]
        }
      ]
    },
    {
      "cell_type": "code",
      "source": [
        "# remove unwanter columns\n",
        "\n",
        "df.drop(['Density (P/Km²)', 'Land Area (Km²)', 'Population -2020', 'Age of User', 'Time of Tweet', 'selected_text', 'Country', 'textID'], axis=1, inplace=True)\n",
        "\n",
        "df_test.drop(['Density (P/Km²)', 'Land Area (Km²)', 'Population -2020', 'Age of User', 'Time of Tweet', 'Country'], axis=1, inplace=True)"
      ],
      "metadata": {
        "id": "jGbjtXjhkfc8"
      },
      "execution_count": null,
      "outputs": []
    },
    {
      "cell_type": "code",
      "source": [
        "print(df.head())"
      ],
      "metadata": {
        "colab": {
          "base_uri": "https://localhost:8080/"
        },
        "id": "YNv7zu20kmKR",
        "outputId": "b1037a25-3c9a-4fdb-ea14-662372bfe335"
      },
      "execution_count": null,
      "outputs": [
        {
          "output_type": "stream",
          "name": "stdout",
          "text": [
            "                                                text sentiment\n",
            "0                I`d have responded, if I were going   neutral\n",
            "1      Sooo SAD I will miss you here in San Diego!!!  negative\n",
            "2                          my boss is bullying me...  negative\n",
            "3                     what interview! leave me alone  negative\n",
            "4   Sons of ****, why couldn`t they put them on t...  negative\n"
          ]
        }
      ]
    },
    {
      "cell_type": "code",
      "source": [
        "# cleaning data\n",
        "\n",
        "nltk.download('stopwords')\n",
        "stop_words = set(stopwords.words('english'))\n",
        "\n",
        "df.dropna(inplace=True)\n",
        "df_test.dropna(inplace=True)\n",
        "def preprocess_text(text):\n",
        "    if not isinstance(text, str):\n",
        "        return ''\n",
        "    text = re.sub(r'[^a-zA-Z\\s]', '', text)\n",
        "    text = text.lower()\n",
        "    tokens = [word for word in text.split() if word not in stop_words]\n",
        "    return ' '.join(tokens)\n",
        "\n",
        "# Ensure the 'text' column is of string type\n",
        "\n",
        "df['text'] = df['text'].astype(str)\n",
        "df_test['text'] = df_test['text'].astype(str)\n",
        "\n",
        "df['text'] = df['text'].apply(preprocess_text)\n",
        "df_test['text'] = df_test['text'].apply(preprocess_text)"
      ],
      "metadata": {
        "colab": {
          "base_uri": "https://localhost:8080/"
        },
        "id": "-Onxk7ckkqWT",
        "outputId": "3a4854f4-f292-4733-da4c-249992268a1e"
      },
      "execution_count": null,
      "outputs": [
        {
          "output_type": "stream",
          "name": "stderr",
          "text": [
            "[nltk_data] Downloading package stopwords to /root/nltk_data...\n",
            "[nltk_data]   Unzipping corpora/stopwords.zip.\n"
          ]
        }
      ]
    },
    {
      "cell_type": "code",
      "source": [
        "print(df.head())"
      ],
      "metadata": {
        "colab": {
          "base_uri": "https://localhost:8080/"
        },
        "id": "t77ic7iFlDGW",
        "outputId": "b5a7edbc-53ff-4ad2-a68f-eeeeac76463c"
      },
      "execution_count": null,
      "outputs": [
        {
          "output_type": "stream",
          "name": "stdout",
          "text": [
            "                                       text sentiment\n",
            "0                        id responded going   neutral\n",
            "1                   sooo sad miss san diego  negative\n",
            "2                             boss bullying  negative\n",
            "3                     interview leave alone  negative\n",
            "4  sons couldnt put releases already bought  negative\n"
          ]
        }
      ]
    },
    {
      "cell_type": "code",
      "source": [
        "# tokenization\n",
        "\n",
        "tokenizer = Tokenizer(num_words=2000)\n",
        "tokenizer.fit_on_texts(df['text'].values)\n",
        "X = tokenizer.texts_to_sequences(df['text'])\n",
        "X = pad_sequences(X, maxlen=100)\n",
        "y = pd.get_dummies(df['sentiment']).values\n",
        "\n",
        "tokenizer.fit_on_texts(df_test['text'])\n",
        "X_test_data = tokenizer.texts_to_sequences(df_test['text'])\n",
        "X_test_data = pad_sequences(X_test_data, maxlen=100)\n",
        "y_test_data = pd.get_dummies(df_test['sentiment']).values"
      ],
      "metadata": {
        "id": "OTp4bTLPlNHA"
      },
      "execution_count": null,
      "outputs": []
    },
    {
      "cell_type": "code",
      "source": [
        "# mLSTM Model\n",
        "# Sample data shapes\n",
        "\n",
        "num_samples = 1000          # Number of samples\n",
        "max_text_length = 100        # Max length for text sequences\n",
        "num_features_text = 128     # Features for text data (e.g., embedding size)\n",
        "\n",
        "text_input = Input(shape=(max_text_length,), name='text_input')\n",
        "embedding_layer = Embedding(input_dim=len(tokenizer.word_index) + 1, output_dim=128)(text_input)\n",
        "text_lstm = Bidirectional(LSTM(64, return_sequences=True))(embedding_layer)\n",
        "text_lstm = Dropout(0.3)(text_lstm)\n",
        "text_lstm = Bidirectional(LSTM(32))(text_lstm)\n",
        "text_lstm = Dense(64, activation='relu')(text_lstm)\n",
        "text_lstm = Dropout(0.5)(text_lstm)\n",
        "\n",
        "output = Dense(3, activation='softmax')(text_lstm)\n",
        "\n",
        "# Define the model\n",
        "model = Model(inputs=text_input, outputs=output)\n",
        "\n",
        "# Compile the model\n",
        "model.compile(optimizer='adam', loss='categorical_crossentropy', metrics=['accuracy'])"
      ],
      "metadata": {
        "id": "wX-0d-ZXlcqS"
      },
      "execution_count": null,
      "outputs": []
    },
    {
      "cell_type": "code",
      "source": [
        "# train model\n",
        "early_stopping = EarlyStopping(monitor='val_loss', patience=5, restore_best_weights=True)\n",
        "lr_reduction = ReduceLROnPlateau(monitor='val_loss', patience=3, factor=0.5, min_lr=0.00001)\n",
        "\n",
        "X_train, X_test, y_train, y_test = train_test_split(X, y, test_size=0.3, random_state=42)\n",
        "history = model.fit(X_train, y_train, epochs=10, batch_size=32, validation_data=(X_test, y_test), callbacks=[early_stopping, lr_reduction])"
      ],
      "metadata": {
        "colab": {
          "base_uri": "https://localhost:8080/"
        },
        "id": "T3mOh0MYlxAl",
        "outputId": "35564bf5-13f6-4f2f-9a3c-cc18a6840513"
      },
      "execution_count": null,
      "outputs": [
        {
          "output_type": "stream",
          "name": "stdout",
          "text": [
            "Epoch 1/10\n",
            "\u001b[1m602/602\u001b[0m \u001b[32m━━━━━━━━━━━━━━━━━━━━\u001b[0m\u001b[37m\u001b[0m \u001b[1m28s\u001b[0m 31ms/step - accuracy: 0.5094 - loss: 0.9759 - val_accuracy: 0.7001 - val_loss: 0.7275 - learning_rate: 0.0010\n",
            "Epoch 2/10\n",
            "\u001b[1m602/602\u001b[0m \u001b[32m━━━━━━━━━━━━━━━━━━━━\u001b[0m\u001b[37m\u001b[0m \u001b[1m18s\u001b[0m 29ms/step - accuracy: 0.7288 - loss: 0.6883 - val_accuracy: 0.7014 - val_loss: 0.7219 - learning_rate: 0.0010\n",
            "Epoch 3/10\n",
            "\u001b[1m602/602\u001b[0m \u001b[32m━━━━━━━━━━━━━━━━━━━━\u001b[0m\u001b[37m\u001b[0m \u001b[1m18s\u001b[0m 30ms/step - accuracy: 0.7548 - loss: 0.6376 - val_accuracy: 0.7008 - val_loss: 0.7297 - learning_rate: 0.0010\n",
            "Epoch 4/10\n",
            "\u001b[1m602/602\u001b[0m \u001b[32m━━━━━━━━━━━━━━━━━━━━\u001b[0m\u001b[37m\u001b[0m \u001b[1m21s\u001b[0m 31ms/step - accuracy: 0.7748 - loss: 0.5927 - val_accuracy: 0.6927 - val_loss: 0.7476 - learning_rate: 0.0010\n",
            "Epoch 5/10\n",
            "\u001b[1m602/602\u001b[0m \u001b[32m━━━━━━━━━━━━━━━━━━━━\u001b[0m\u001b[37m\u001b[0m \u001b[1m19s\u001b[0m 30ms/step - accuracy: 0.7892 - loss: 0.5537 - val_accuracy: 0.6932 - val_loss: 0.7767 - learning_rate: 0.0010\n",
            "Epoch 6/10\n",
            "\u001b[1m602/602\u001b[0m \u001b[32m━━━━━━━━━━━━━━━━━━━━\u001b[0m\u001b[37m\u001b[0m \u001b[1m18s\u001b[0m 30ms/step - accuracy: 0.8185 - loss: 0.4881 - val_accuracy: 0.6822 - val_loss: 0.8813 - learning_rate: 5.0000e-04\n",
            "Epoch 7/10\n",
            "\u001b[1m602/602\u001b[0m \u001b[32m━━━━━━━━━━━━━━━━━━━━\u001b[0m\u001b[37m\u001b[0m \u001b[1m21s\u001b[0m 31ms/step - accuracy: 0.8347 - loss: 0.4393 - val_accuracy: 0.6783 - val_loss: 0.9046 - learning_rate: 5.0000e-04\n"
          ]
        }
      ]
    },
    {
      "cell_type": "code",
      "source": [
        "# evaluate model\n",
        "# Evaluate the model on validation data\n",
        "\n",
        "val_loss, val_accuracy = model.evaluate(X_test, y_test)\n",
        "\n",
        "print(f\"Validation Loss: {val_loss:.4f}\")\n",
        "print(f\"Validation Accuracy: {val_accuracy * 100:.2f}%\")"
      ],
      "metadata": {
        "colab": {
          "base_uri": "https://localhost:8080/"
        },
        "id": "dTBAbiBCl6q7",
        "outputId": "50b7a5c8-e7f4-4518-b814-e50856e45b55"
      },
      "execution_count": null,
      "outputs": [
        {
          "output_type": "stream",
          "name": "stdout",
          "text": [
            "\u001b[1m258/258\u001b[0m \u001b[32m━━━━━━━━━━━━━━━━━━━━\u001b[0m\u001b[37m\u001b[0m \u001b[1m3s\u001b[0m 10ms/step - accuracy: 0.6999 - loss: 0.7198\n",
            "Validation Loss: 0.7219\n",
            "Validation Accuracy: 70.14%\n"
          ]
        }
      ]
    },
    {
      "cell_type": "code",
      "source": [
        "# Make predictions on validation data\n",
        "y_pred = model.predict(X_test_data)\n",
        "\n",
        "# If it's a classification task, you might want to convert softmax probabilities to class labels:\n",
        "y_pred_class = np.argmax(y_pred, axis=1)\n",
        "y_true_class = np.argmax(y_test_data, axis=1)\n",
        "\n",
        "# Compare predictions with actual labels\n",
        "\n",
        "print(f\"Predictions: {y_pred_class[:10]}\")\n",
        "print(f\"True Labels: {y_true_class[:10]}\")"
      ],
      "metadata": {
        "colab": {
          "base_uri": "https://localhost:8080/"
        },
        "id": "MOGuQw-KmqmN",
        "outputId": "70635c25-2c85-4af2-e4c1-731005d42f3e"
      },
      "execution_count": null,
      "outputs": [
        {
          "output_type": "stream",
          "name": "stdout",
          "text": [
            "\u001b[1m111/111\u001b[0m \u001b[32m━━━━━━━━━━━━━━━━━━━━\u001b[0m\u001b[37m\u001b[0m \u001b[1m2s\u001b[0m 12ms/step\n",
            "Predictions: [2 2 1 2 1 2 1 2 2 0]\n",
            "True Labels: [1 2 0 2 2 2 0 0 1 1]\n"
          ]
        }
      ]
    },
    {
      "cell_type": "code",
      "source": [
        "# Create confusion matrix\n",
        "conf_matrix = confusion_matrix(y_true_class, y_pred_class)\n",
        "\n",
        "# Visualize the confusion matrix\n",
        "plt.figure(figsize=(8, 6))\n",
        "sns.heatmap(conf_matrix, annot=True, fmt=\"d\", cmap=\"Blues\")\n",
        "plt.ylabel('Actual Label')\n",
        "plt.xlabel('Predicted Label')\n",
        "plt.show()"
      ],
      "metadata": {
        "colab": {
          "base_uri": "https://localhost:8080/",
          "height": 542
        },
        "id": "bdxoAPehm4hc",
        "outputId": "0e0b30c4-0b81-44fe-ec61-a9875320b84d"
      },
      "execution_count": null,
      "outputs": [
        {
          "output_type": "display_data",
          "data": {
            "text/plain": [
              "<Figure size 800x600 with 2 Axes>"
            ],
            "image/png": "[encoded data removed]"
          },
          "metadata": {}
        }
      ]
    },
    {
      "cell_type": "code",
      "source": [
        "# Print classification report\n",
        "\n",
        "print(classification_report(y_true_class, y_pred_class))"
      ],
      "metadata": {
        "colab": {
          "base_uri": "https://localhost:8080/"
        },
        "id": "AvoFokM0nDcb",
        "outputId": "87302779-07ae-42c1-f0c0-0461fb102173"
      },
      "execution_count": null,
      "outputs": [
        {
          "output_type": "stream",
          "name": "stdout",
          "text": [
            "              precision    recall  f1-score   support\n",
            "\n",
            "           0       0.43      0.37      0.40      1001\n",
            "           1       0.49      0.57      0.53      1430\n",
            "           2       0.57      0.53      0.55      1103\n",
            "\n",
            "    accuracy                           0.50      3534\n",
            "   macro avg       0.50      0.49      0.49      3534\n",
            "weighted avg       0.50      0.50      0.50      3534\n",
            "\n"
          ]
        }
      ]
    },
    {
      "cell_type": "code",
      "source": [
        "# Plot accuracy\n",
        "\n",
        "plt.plot(history.history['accuracy'], label='train accuracy')\n",
        "plt.plot(history.history['val_accuracy'], label='val accuracy')\n",
        "plt.xlabel('Epochs')\n",
        "plt.ylabel('Accuracy')\n",
        "plt.legend()\n",
        "plt.show()"
      ],
      "metadata": {
        "colab": {
          "base_uri": "https://localhost:8080/",
          "height": 449
        },
        "id": "cNR_Fh3ZnKMr",
        "outputId": "72b04ba4-e795-4da7-9bb9-3afae46ddf27"
      },
      "execution_count": null,
      "outputs": [
        {
          "output_type": "display_data",
          "data": {
            "text/plain": [
              "<Figure size 640x480 with 1 Axes>"
            ],
            "image/png": "[encoded data removed]"
          },
          "metadata": {}
        }
      ]
    },
    {
      "cell_type": "code",
      "source": [
        "# Preprocess function from your code\n",
        "def preprocess_text(text):\n",
        "    if not isinstance(text, str):\n",
        "        return ''\n",
        "    text = re.sub(r'[^a-zA-Z\\s]', '', text)\n",
        "    text = text.lower()\n",
        "    tokens = [word for word in text.split() if word not in stop_words]\n",
        "    return ' '.join(tokens)\n",
        "\n",
        "# Function to predict sentiment in real-time\n",
        "def predict_sentiment(input_text):\n",
        "    # Preprocess the input text (same as training data)\n",
        "    preprocessed_text = preprocess_text(input_text)\n",
        "\n",
        "    # Tokenize the text\n",
        "    tokenized_text = tokenizer.texts_to_sequences([preprocessed_text])\n",
        "\n",
        "    # Pad the tokenized text to ensure it's the right length\n",
        "    padded_text = pad_sequences(tokenized_text, maxlen=100)\n",
        "\n",
        "    # Make prediction\n",
        "    prediction = model.predict(padded_text)\n",
        "\n",
        "    # Convert the softmax probabilities to class labels\n",
        "    predicted_class = np.argmax(prediction, axis=1)\n",
        "\n",
        "    # Map class index to sentiment label\n",
        "    sentiment_labels = ['negative', 'neutral', 'positive']\n",
        "    predicted_sentiment = sentiment_labels[predicted_class[0]]\n",
        "\n",
        "    return predicted_sentiment\n",
        "\n",
        "# Example usage for real-time prediction\n",
        "input_sentence = \"I love this product, it's amazing!\"\n",
        "predicted_sentiment = predict_sentiment(input_sentence)\n",
        "print(f\"Predicted Sentiment: {predicted_sentiment}\")\n",
        "\n",
        "# You can also set up a loop for continuous input\n",
        "while True:\n",
        "    input_text = input(\"Enter a sentence to analyze sentiment (or type 'exit' to quit): \")\n",
        "    if input_text.lower() == 'exit':\n",
        "        break\n",
        "    sentiment = predict_sentiment(input_text)\n",
        "    print(f\"Predicted Sentiment: {sentiment}\")\n"
      ],
      "metadata": {
        "colab": {
          "base_uri": "https://localhost:8080/"
        },
        "id": "iE0vTeXgnR8t",
        "outputId": "755ebab1-a3ce-41a0-d259-4e7a16999e9f"
      },
      "execution_count": null,
      "outputs": [
        {
          "name": "stdout",
          "output_type": "stream",
          "text": [
            "\u001b[1m1/1\u001b[0m \u001b[32m━━━━━━━━━━━━━━━━━━━━\u001b[0m\u001b[37m\u001b[0m \u001b[1m0s\u001b[0m 71ms/step\n",
            "Predicted Sentiment: positive\n",
            "Enter a sentence to analyze sentiment (or type 'exit' to quit): Riddhi is smart.\n",
            "\u001b[1m1/1\u001b[0m \u001b[32m━━━━━━━━━━━━━━━━━━━━\u001b[0m\u001b[37m\u001b[0m \u001b[1m0s\u001b[0m 26ms/step\n",
            "Predicted Sentiment: neutral\n",
            "Enter a sentence to analyze sentiment (or type 'exit' to quit): Lovely is really lovely.\n",
            "\u001b[1m1/1\u001b[0m \u001b[32m━━━━━━━━━━━━━━━━━━━━\u001b[0m\u001b[37m\u001b[0m \u001b[1m0s\u001b[0m 41ms/step\n",
            "Predicted Sentiment: neutral\n",
            "Enter a sentence to analyze sentiment (or type 'exit' to quit): I love NLP.\n",
            "\u001b[1m1/1\u001b[0m \u001b[32m━━━━━━━━━━━━━━━━━━━━\u001b[0m\u001b[37m\u001b[0m \u001b[1m0s\u001b[0m 31ms/step\n",
            "Predicted Sentiment: positive\n",
            "Enter a sentence to analyze sentiment (or type 'exit' to quit): This job is terrible.\n",
            "\u001b[1m1/1\u001b[0m \u001b[32m━━━━━━━━━━━━━━━━━━━━\u001b[0m\u001b[37m\u001b[0m \u001b[1m0s\u001b[0m 43ms/step\n",
            "Predicted Sentiment: neutral\n",
            "Enter a sentence to analyze sentiment (or type 'exit' to quit): Pooja is a bad women.\n",
            "\u001b[1m1/1\u001b[0m \u001b[32m━━━━━━━━━━━━━━━━━━━━\u001b[0m\u001b[37m\u001b[0m \u001b[1m0s\u001b[0m 28ms/step\n",
            "Predicted Sentiment: negative\n",
            "Enter a sentence to analyze sentiment (or type 'exit' to quit): exit\n"
          ]
        }
      ]
    },
    {
      "cell_type": "code",
      "source": [],
      "metadata": {
        "id": "atI3UaQWriB6"
      },
      "execution_count": null,
      "outputs": []
    }
  ]
}